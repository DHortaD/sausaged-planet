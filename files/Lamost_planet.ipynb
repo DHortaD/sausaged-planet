{
 "cells": [
  {
   "cell_type": "code",
   "execution_count": null,
   "metadata": {},
   "outputs": [],
   "source": [
    "# load in the correct modules\n",
    "import numpy as np\n",
    "import matplotlib.pyplot as plt\n",
    "from astropy.io import fits\n",
    "import tqdm\n",
    "import hdbscan\n",
    "from matplotlib import rc\n",
    "# rc('font',**{'family':'sans-serif','sans-serif':['Helvetica']})\n",
    "rc('font',**{'family':'serif','serif':['Times']})\n",
    "rc('text', usetex=True)\n",
    "import nmmn.plots\n",
    "wolfram=nmmn.plots.wolframcmap() # for Mathematica's cmap\n",
    "parula=nmmn.plots.parulacmap() # for MATLAB's cmap\n",
    "turbo=nmmn.plots.turbocmap() # Turbo\n",
    "import warnings\n",
    "warnings.filterwarnings('ignore')"
   ]
  },
  {
   "cell_type": "markdown",
   "metadata": {},
   "source": [
    "# Load in the LAMOST DR7-Gaia-Planet catalogue"
   ]
  },
  {
   "cell_type": "code",
   "execution_count": 2,
   "metadata": {},
   "outputs": [],
   "source": [
    "# LOAD THE APOGEE DATA\n",
    "path = '/Users/qpasa/Desktop/Master/data/lamost_planets_gaia.fits'\n",
    "tb = fits.open(path)\n",
    "data = tb[1].data "
   ]
  },
  {
   "cell_type": "code",
   "execution_count": 18,
   "metadata": {},
   "outputs": [
    {
     "name": "stdout",
     "output_type": "stream",
     "text": [
      "2\n",
      "[-0.808 -1.316]\n",
      "[0.142718 0.278302]\n"
     ]
    }
   ],
   "source": [
    "mask_ges_planet = (data['feh']<-0.8)&(data['ruwe']<1.4)&(data['parallax_over_error']>20)&(data['teff']>3500)&(data['teff']<6000)\\\n",
    "        &(data['logg']<4.2)&(data['logg']>0)\n",
    "print(len(data[mask_ges_planet]))\n",
    "print((data['feh'][mask_ges_planet]))\n",
    "print((data['alpha_m'][mask_ges_planet]))\n"
   ]
  },
  {
   "cell_type": "code",
   "execution_count": 4,
   "metadata": {},
   "outputs": [
    {
     "data": {
      "text/plain": [
       "(-0.5, 0.7)"
      ]
     },
     "execution_count": 4,
     "metadata": {},
     "output_type": "execute_result"
    },
    {
     "data": {
      "image/png": "[encoded data removed]",
      "text/plain": [
       "<Figure size 432x288 with 1 Axes>"
      ]
     },
     "metadata": {
      "needs_background": "light"
     },
     "output_type": "display_data"
    }
   ],
   "source": [
    "# check the alpha-Fe plane\n",
    "\n",
    "plt.scatter(data['feh'],data['alpha_m'],s=10,c='k')\n",
    "plt.scatter(data['feh'][mask_ges_planet],data['alpha_m'][mask_ges_planet],s=30,c='r')\n",
    "plt.errorbar(data['feh'][mask_ges_planet],data['alpha_m'][mask_ges_planet],xerr= data['feh_err'][mask_ges_planet],yerr= data['alpha_m_err'][mask_ges_planet],color='r')\n",
    "plt.xlabel(r'[Fe/H]', fontsize=14)\n",
    "plt.ylabel(r'[$\\alpha$/Fe]', fontsize=14)\n",
    "plt.xlim(-2.5,1)\n",
    "plt.ylim(-0.5,0.7)\n"
   ]
  },
  {
   "cell_type": "markdown",
   "metadata": {},
   "source": [
    "# Let's compute the orbits of this GES-like star"
   ]
  },
  {
   "cell_type": "code",
   "execution_count": 5,
   "metadata": {},
   "outputs": [],
   "source": [
    "import numpy as np\n",
    "import matplotlib.pyplot as plt\n",
    "import galpy\n",
    "from galpy.util import bovy_coords\n",
    "from galpy.potential import IsochronePotential\n",
    "from galpy.actionAngle import actionAngleIsochrone\n",
    "# from galpy.potential import MWPotential2014\n",
    "from galpy.actionAngle import actionAngleStaeckel\n",
    "from galpy.actionAngle import estimateDeltaStaeckel\n",
    "from astropy.io import fits\n",
    "import tqdm\n",
    "from galpy.orbit import Orbit\n",
    "from galpy.potential.mwpotentials import McMillan17\n",
    "from galpy.util.bovy_conversion import get_physical"
   ]
  },
  {
   "cell_type": "code",
   "execution_count": 7,
   "metadata": {},
   "outputs": [
    {
     "data": {
      "text/plain": [
       "(array([314., 333., 175.,  42.,  11.,   3.,   2.,   0.,   1.,   4.]),\n",
       " array([  29.4906216 ,  431.53758044,  833.58453928, 1235.63149812,\n",
       "        1637.67845696, 2039.7254158 , 2441.77237464, 2843.81933348,\n",
       "        3245.86629232, 3647.91325116, 4049.96021   ]),\n",
       " <a list of 10 Patch objects>)"
      ]
     },
     "execution_count": 7,
     "metadata": {},
     "output_type": "execute_result"
    },
    {
     "data": {
      "image/png": "[encoded data removed]",
      "text/plain": [
       "<Figure size 432x288 with 1 Axes>"
      ]
     },
     "metadata": {
      "needs_background": "light"
     },
     "output_type": "display_data"
    }
   ],
   "source": [
    "plt.hist(data['rgeo'])"
   ]
  },
  {
   "cell_type": "code",
   "execution_count": 8,
   "metadata": {},
   "outputs": [],
   "source": [
    "ro = 8.178\n",
    "vo = 220.\n",
    "zo = 0.025\n",
    "\n",
    "ra, dec= data['ra'], data['dec']\n",
    "lb= bovy_coords.radec_to_lb(ra,dec,degree=True, epoch=None)\n",
    "pmra, pmdec= data['pmra'], data['pmdec']\n",
    "pmllpmbb= bovy_coords.pmrapmdec_to_pmllpmbb(pmra,pmdec,ra,dec,degree=True)\n",
    "d, vlos= data['rgeo']/1e3, data['rv']\n",
    "rectgal= bovy_coords.sphergal_to_rectgal(lb[:,0],lb[:,1],d,vlos,pmllpmbb[:,0], pmllpmbb[:,1],degree=True)\n",
    "vsolar= np.array([-11.1,12.6,7.25])\n",
    "vsun= np.array([0.,1.,0.,])+vsolar/vo\n",
    "X = rectgal[:,0]/ro\n",
    "Y = rectgal[:,1]/ro\n",
    "Z = rectgal[:,2]/ro\n",
    "vx = rectgal[:,3]/vo\n",
    "vy = rectgal[:,4]/vo\n",
    "vz = rectgal[:,5]/vo\n",
    "XYZ = np.dstack([X, Y, Z])[0]\n",
    "vxyz = np.dstack([vx,vy,vz])[0]\n",
    "Rpz = bovy_coords.XYZ_to_galcencyl(XYZ[:,0],XYZ[:,1],XYZ[:,2],Zsun=zo/ro)\n",
    "vRvTvz = bovy_coords.vxvyvz_to_galcencyl(vxyz[:,0], vxyz[:,1], vxyz[:,2], Rpz[:,0], Rpz[:,1], Rpz[:,2],\n",
    "                                                                vsun=vsun,\n",
    "                                                                Xsun=1.,\n",
    "                                                                Zsun=zo/ro,\n",
    "                                                                galcen=True)"
   ]
  },
  {
   "cell_type": "code",
   "execution_count": 9,
   "metadata": {},
   "outputs": [],
   "source": [
    "def E(dat,\n",
    "              return_rphiz =True,\n",
    "              verbose =False,\n",
    "              ro = 8.,\n",
    "              vo = 220.,\n",
    "              zo = 0.025,\n",
    "              keys = ['ra', 'dec', 'rgeo', 'pmra', 'pmdec', 'rv'],\n",
    "              #cov_keys = [dat['pmra_error_1'],dat['pmdec_error_1'],dat['SH_weighted_diststd'],dat['VERR_1']],\n",
    "              parallax = False):\n",
    "    vxvv = np.dstack([dat[keys[i]] for i in range(len(keys))])[0]\n",
    "    #vxvv = np.dstack((keys[:,0],keys[:,1],keys[:,2]/1e3,keys[:,3],keys[:,4],keys[:,5]))\n",
    "    print(np.shape(vxvv))\n",
    "    mp=McMillan17\n",
    "    E = np.zeros(len(vxvv))\n",
    "    print('running E')\n",
    "    for idx, i in tqdm.tqdm(enumerate(vxvv)):\n",
    "      #o = Orbit(vxvv=[p for p in j],radec=True,**get_physical(McMillan17))\n",
    "        o = Orbit(vxvv=[vxvv[idx,0],vxvv[idx,1],(vxvv[idx,2]/1e3),vxvv[idx,3],vxvv[idx,4],vxvv[idx,5]],radec=True, **get_physical(McMillan17)) #here you create an iterable which iterates over the sampled_vxvv values.\n",
    "        E[idx] = o.E(analytic=True,pot=McMillan17)\n",
    "    return E\n"
   ]
  },
  {
   "cell_type": "code",
   "execution_count": 10,
   "metadata": {},
   "outputs": [
    {
     "name": "stderr",
     "output_type": "stream",
     "text": [
      "12it [00:00, 119.28it/s]"
     ]
    },
    {
     "name": "stdout",
     "output_type": "stream",
     "text": [
      "(885, 6)\n",
      "running E\n"
     ]
    },
    {
     "name": "stderr",
     "output_type": "stream",
     "text": [
      "885it [00:05, 154.25it/s]\n"
     ]
    }
   ],
   "source": [
    "energies = E(data)"
   ]
  },
  {
   "cell_type": "code",
   "execution_count": 11,
   "metadata": {},
   "outputs": [
    {
     "name": "stdout",
     "output_type": "stream",
     "text": [
      "[-151338.30869064 -155767.16574022]\n"
     ]
    }
   ],
   "source": [
    "print(energies[mask_ges_planet])"
   ]
  },
  {
   "cell_type": "code",
   "execution_count": 12,
   "metadata": {},
   "outputs": [
    {
     "data": {
      "text/plain": [
       "(-500, 500)"
      ]
     },
     "execution_count": 12,
     "metadata": {},
     "output_type": "execute_result"
    },
    {
     "data": {
      "image/png": "[encoded data removed]",
      "text/plain": [
       "<Figure size 432x288 with 1 Axes>"
      ]
     },
     "metadata": {
      "needs_background": "light"
     },
     "output_type": "display_data"
    }
   ],
   "source": [
    "plt.scatter(vRvTvz[:,0]*220,vRvTvz[:,1]*220,s=10,c='k')\n",
    "plt.scatter(vRvTvz[:,0][mask_ges_planet]*220,vRvTvz[:,1][mask_ges_planet]*220,s=30,c='r')\n",
    "plt.xlabel(r'vR', fontsize=14)\n",
    "plt.ylabel(r'vT', fontsize=14)\n",
    "plt.xlim(-500,500)\n",
    "plt.ylim(-500,500)\n"
   ]
  },
  {
   "cell_type": "code",
   "execution_count": 14,
   "metadata": {},
   "outputs": [],
   "source": [
    "from galpy.actionAngle import UnboundError\n",
    "\n",
    "# fast_orbitparams = np.zeros((len(ra),4))\n",
    "# actions = np.zeros((len(ra),3))\n",
    "mp=McMillan17\n",
    "delta = estimateDeltaStaeckel(mp, Rpz[:,0], XYZ[:,2], no_median=True)\n",
    "aAS = actionAngleStaeckel(pot=mp, delta=delta)\n",
    "e0, Zmax0, rperi0, rap0 = aAS.EccZmaxRperiRap(Rpz[:,0], vRvTvz[:,0], vRvTvz[:,1], XYZ[:,2], vRvTvz[:,2], Rpz[:,1], delta=delta)\n"
   ]
  },
  {
   "cell_type": "code",
   "execution_count": 22,
   "metadata": {},
   "outputs": [
    {
     "name": "stdout",
     "output_type": "stream",
     "text": [
      "[1947.30196402 1721.0222918 ]\n",
      "[0.15546341 0.16976301]\n"
     ]
    }
   ],
   "source": [
    "lz = np.array(Rpz[:,0]*vRvTvz[:,1])\n",
    "lz2 = lz*220*8.178\n",
    "print(lz2[mask_ges_planet])\n",
    "print(e0[mask_ges_planet])\n"
   ]
  },
  {
   "cell_type": "code",
   "execution_count": 16,
   "metadata": {},
   "outputs": [
    {
     "data": {
      "text/plain": [
       "(-300000, 0)"
      ]
     },
     "execution_count": 16,
     "metadata": {},
     "output_type": "execute_result"
    },
    {
     "data": {
      "image/png": "[encoded data removed]",
      "text/plain": [
       "<Figure size 432x288 with 1 Axes>"
      ]
     },
     "metadata": {
      "needs_background": "light"
     },
     "output_type": "display_data"
    }
   ],
   "source": [
    "plt.scatter(lz2, energies)\n",
    "plt.xlim(-4000,4000)\n",
    "plt.ylim(-300000,0)\n"
   ]
  },
  {
   "cell_type": "code",
   "execution_count": 25,
   "metadata": {},
   "outputs": [
    {
     "name": "stdout",
     "output_type": "stream",
     "text": [
      "[-0.702]\n",
      "[-160006.64774168]\n",
      "[0.89787604]\n",
      "[-9999.]\n",
      "[625137162857354880]\n",
      "['BD+20 2457 b']\n"
     ]
    }
   ],
   "source": [
    "print(data['feh'][lz2<0])\n",
    "print(energies[lz2<0])\n",
    "print(e0[lz2<0])\n",
    "print(data['alpha_m'][lz2<0])\n",
    "print((data['source_id'][lz2<0]))\n",
    "print((data['pl_name'][lz2<0]))"
   ]
  },
  {
   "cell_type": "code",
   "execution_count": null,
   "metadata": {},
   "outputs": [],
   "source": []
  }
 ],
 "metadata": {
  "kernelspec": {
   "display_name": "Python 3",
   "language": "python",
   "name": "python3"
  },
  "language_info": {
   "codemirror_mode": {
    "name": "ipython",
    "version": 3
   },
   "file_extension": ".py",
   "mimetype": "text/x-python",
   "name": "python",
   "nbconvert_exporter": "python",
   "pygments_lexer": "ipython3",
   "version": "3.7.4"
  }
 },
 "nbformat": 4,
 "nbformat_minor": 2
}
